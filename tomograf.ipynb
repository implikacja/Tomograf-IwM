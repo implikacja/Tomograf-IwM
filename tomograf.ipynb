{
 "cells": [
  {
   "cell_type": "code",
   "execution_count": 1,
   "metadata": {
    "collapsed": false
   },
   "outputs": [
    {
     "data": {
      "image/png": "[encoded data removed]",
      "text/plain": [
       "<matplotlib.figure.Figure at 0x7fc7784b2128>"
      ]
     },
     "metadata": {},
     "output_type": "display_data"
    },
    {
     "data": {
      "image/png": "[encoded data removed]",
      "text/plain": [
       "<matplotlib.figure.Figure at 0x7fc747ff4550>"
      ]
     },
     "metadata": {},
     "output_type": "display_data"
    },
    {
     "name": "stdout",
     "output_type": "stream",
     "text": [
      "2.748893571891069\n",
      "4.843288674284264\n",
      "6.93768377667746\n"
     ]
    },
    {
     "data": {
      "image/png": "[encoded data removed]",
      "text/plain": [
       "<matplotlib.figure.Figure at 0x7fc74d907a20>"
      ]
     },
     "metadata": {},
     "output_type": "display_data"
    }
   ],
   "source": [
    "import cv2\n",
    "from matplotlib import pyplot as plt\n",
    "import numpy as np\n",
    "import math as m\n",
    "\n",
    "def load(name):\n",
    "    im = cv2.imread(name)\n",
    "    return im\n",
    "\n",
    "def plot(img):\n",
    "    fig = plt.imshow(img)\n",
    "    tmp = cv2.cvtColor(img, cv2.COLOR_BGR2RGB)  \n",
    "    plt.imshow(tmp)\n",
    "    plt.xticks([]), plt.yticks([])\n",
    "    plt.show()\n",
    "\n",
    "def sinogram(img, steps=12, l=45, detectors=5): \n",
    "    alfa = 360 / steps\n",
    "    alfaRadians = m.radians(alfa)\n",
    "    center = (int)(img.shape[0] / 2)\n",
    "    radius = center - 5 \n",
    "    centerTuple = (center, center)\n",
    "    cv2.circle(img, centerTuple, radius, (255,255,255))\n",
    "    plot(img)\n",
    "    tmpRadians = 0\n",
    "    for i in range(steps):\n",
    "        x = center + int(radius * np.cos(tmpRadians))\n",
    "        y = center + int(radius * np.sin(tmpRadians))\n",
    "        cv2.circle(img, (x,y), 5, (0,255,255), -1)\n",
    "        tmpDetectorRadians = m.radians(180 - l/2) + tmpRadians\n",
    "        print(tmpDetectorRadians)\n",
    "        detectorStep = m.radians(l / (detectors - 1))\n",
    "        for j in range(detectors):\n",
    "            xDet = center + int(radius * np.cos(tmpDetectorRadians))\n",
    "            yDet = center + int(radius * np.sin(tmpDetectorRadians))\n",
    "            tmpDetectorRadians += detectorStep\n",
    "            cv2.circle(img, (xDet,yDet), 5, (255,255,0), -1)\n",
    "\n",
    "        tmpRadians += alfaRadians\n",
    "        \n",
    "    plot(img)\n",
    "    \n",
    "    \n",
    "    \n",
    "img = load(\"Kolo.bmp\")\n",
    "plot(img)\n",
    "sinogram(img,3,45,5)"
   ]
  },
  {
   "cell_type": "code",
   "execution_count": null,
   "metadata": {
    "collapsed": true
   },
   "outputs": [],
   "source": []
  }
 ],
 "metadata": {
  "anaconda-cloud": {},
  "kernelspec": {
   "display_name": "Python 3",
   "language": "python",
   "name": "python3"
  },
  "language_info": {
   "codemirror_mode": {
    "name": "ipython",
    "version": 3
   },
   "file_extension": ".py",
   "mimetype": "text/x-python",
   "name": "python",
   "nbconvert_exporter": "python",
   "pygments_lexer": "ipython3",
   "version": "3.6.0"
  }
 },
 "nbformat": 4,
 "nbformat_minor": 1
}
